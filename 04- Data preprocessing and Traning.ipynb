{
 "cells": [
  {
   "cell_type": "markdown",
   "metadata": {},
   "source": [
    "# Face Recognition"
   ]
  },
  {
   "cell_type": "markdown",
   "metadata": {},
   "source": [
    "**Step-1 importing libraries**"
   ]
  },
  {
   "cell_type": "code",
   "execution_count": 27,
   "metadata": {},
   "outputs": [],
   "source": [
    "import glob\n",
    "import dlib\n",
    "import cv2\n",
    "import pickle\n",
    "import random\n",
    "import facevec\n",
    "import numpy as np\n",
    "import matplotlib.pyplot as plt\n",
    "%matplotlib inline\n",
    "from imutils import face_utils\n"
   ]
  },
  {
   "cell_type": "code",
   "execution_count": 8,
   "metadata": {},
   "outputs": [],
   "source": [
    "def adjust_gamma(input_image, gamma=1.0):\n",
    "    table = np.array([((iteration / 255.0) ** (1.0 / gamma)) * 255\n",
    "                      for iteration in np.arange(0, 256)]).astype(\"uint8\")\n",
    "    return cv2.LUT(input_image, table)"
   ]
  },
  {
   "cell_type": "code",
   "execution_count": 9,
   "metadata": {},
   "outputs": [],
   "source": [
    "def read_image(path, gamma=0.75):\n",
    "    output = cv2.imread(path)\n",
    "    return adjust_gamma(output, gamma=gamma)"
   ]
  },
  {
   "cell_type": "code",
   "execution_count": 7,
   "metadata": {},
   "outputs": [],
   "source": [
    "def face_vector(input_image):\n",
    "    faces = facevec.detector(input_image, 1)\n",
    "    if not faces:\n",
    "        return None\n",
    "\n",
    "    f = faces[0]\n",
    "    shape = facevec.predictor(input_image, f)\n",
    "    face_descriptor = facevec.face_model.compute_face_descriptor(input_image, shape)\n",
    "    return face_descriptor"
   ]
  },
  {
   "cell_type": "code",
   "execution_count": 10,
   "metadata": {},
   "outputs": [],
   "source": [
    "male = 0\n",
    "female = 1"
   ]
  },
  {
   "cell_type": "code",
   "execution_count": 2,
   "metadata": {},
   "outputs": [
    {
     "name": "stdout",
     "output_type": "stream",
     "text": [
      "Retrieving Male images ...\n",
      "Retrieved 75 faces !\n",
      "Retrieving female images ...\n",
      "Retrieved 64 faces !\n"
     ]
    }
   ],
   "source": [
    "print(\"Retrieving Male images ...\")\n",
    "sub1 = glob.glob(\"./data/face_data/male/*.png\")\n",
    "print(\"Retrieved {} faces !\".format(len(sub1)))\n",
    "\n",
    "print(\"Retrieving female images ...\")\n",
    "sub2 = glob.glob(\"./data/face_data/female/*.png\")\n",
    "print(\"Retrieved {} faces !\".format(len(sub2)))\n"
   ]
  },
  {
   "cell_type": "code",
   "execution_count": 8,
   "metadata": {},
   "outputs": [],
   "source": [
    "vectors = dlib.vectors()\n",
    "labels = dlib.array()"
   ]
  },
  {
   "cell_type": "code",
   "execution_count": 11,
   "metadata": {
    "scrolled": true
   },
   "outputs": [
    {
     "name": "stdout",
     "output_type": "stream",
     "text": [
      "Reading Males images ...\n",
      "Reading 0 of 76\n",
      "Reading 1 of 76\n",
      "Reading 2 of 76\n",
      "Reading 3 of 76\n",
      "Reading 4 of 76\n",
      "Reading 5 of 76\n",
      "Reading 6 of 76\n",
      "Reading 7 of 76\n",
      "Reading 8 of 76\n",
      "Reading 9 of 76\n",
      "Reading 10 of 76\n",
      "Reading 11 of 76\n",
      "Reading 12 of 76\n",
      "Reading 13 of 76\n",
      "Reading 14 of 76\n",
      "Reading 15 of 76\n",
      "Reading 16 of 76\n",
      "Reading 17 of 76\n",
      "Reading 18 of 76\n",
      "Reading 19 of 76\n",
      "Reading 20 of 76\n",
      "Reading 21 of 76\n",
      "Reading 22 of 76\n",
      "Reading 23 of 76\n",
      "Reading 24 of 76\n",
      "Reading 25 of 76\n",
      "Reading 26 of 76\n",
      "Reading 27 of 76\n",
      "Reading 28 of 76\n",
      "Reading 29 of 76\n",
      "Reading 30 of 76\n",
      "Reading 31 of 76\n",
      "Reading 32 of 76\n",
      "Reading 33 of 76\n",
      "Reading 34 of 76\n",
      "Reading 35 of 76\n",
      "Reading 36 of 76\n",
      "Reading 37 of 76\n",
      "Reading 38 of 76\n",
      "Reading 39 of 76\n",
      "Reading 40 of 76\n",
      "Reading 41 of 76\n",
      "Reading 42 of 76\n",
      "Reading 43 of 76\n",
      "Reading 44 of 76\n",
      "Reading 45 of 76\n",
      "Reading 46 of 76\n",
      "Reading 47 of 76\n",
      "Reading 48 of 76\n",
      "Reading 49 of 76\n",
      "Reading 50 of 76\n",
      "Reading 51 of 76\n",
      "Reading 52 of 76\n",
      "Reading 53 of 76\n",
      "Reading 54 of 76\n",
      "Reading 55 of 76\n",
      "Reading 56 of 76\n",
      "Reading 57 of 76\n",
      "Reading 58 of 76\n",
      "Reading 59 of 76\n",
      "Reading 60 of 76\n",
      "Reading 61 of 76\n",
      "Reading 62 of 76\n",
      "Reading 63 of 76\n",
      "Reading 64 of 76\n",
      "Reading 65 of 76\n",
      "Reading 66 of 76\n",
      "Reading 67 of 76\n",
      "Reading 68 of 76\n",
      "Reading 69 of 76\n",
      "Reading 70 of 76\n",
      "Reading 71 of 76\n",
      "Reading 72 of 76\n",
      "Reading 73 of 76\n",
      "Reading 74 of 76\n",
      "Reading 75 of 76\n"
     ]
    }
   ],
   "source": [
    "print(\"Reading Males images ...\")\n",
    "for i, sub in enumerate(sub1):\n",
    "    print(\"Reading {} of {}\\r\".format(i, len(sub1)))\n",
    "    face_vectors = face_vector(read_image(sub))\n",
    "    if face_vectors is None:\n",
    "        continue\n",
    "    vectors.append(dlib.vector(face_vectors))\n",
    "    labels.append(male)"
   ]
  },
  {
   "cell_type": "code",
   "execution_count": 10,
   "metadata": {
    "scrolled": true
   },
   "outputs": [
    {
     "name": "stdout",
     "output_type": "stream",
     "text": [
      "Reading Female  images ...\n",
      "Reading 0 of 64\n",
      "Reading 1 of 64\n",
      "Reading 2 of 64\n",
      "Reading 3 of 64\n",
      "Reading 4 of 64\n",
      "Reading 5 of 64\n",
      "Reading 6 of 64\n",
      "Reading 7 of 64\n",
      "Reading 8 of 64\n",
      "Reading 9 of 64\n",
      "Reading 10 of 64\n",
      "Reading 11 of 64\n",
      "Reading 12 of 64\n",
      "Reading 13 of 64\n",
      "Reading 14 of 64\n",
      "Reading 15 of 64\n",
      "Reading 16 of 64\n",
      "Reading 17 of 64\n",
      "Reading 18 of 64\n",
      "Reading 19 of 64\n",
      "Reading 20 of 64\n",
      "Reading 21 of 64\n",
      "Reading 22 of 64\n",
      "Reading 23 of 64\n",
      "Reading 24 of 64\n",
      "Reading 25 of 64\n",
      "Reading 26 of 64\n",
      "Reading 27 of 64\n",
      "Reading 28 of 64\n",
      "Reading 29 of 64\n",
      "Reading 30 of 64\n",
      "Reading 31 of 64\n",
      "Reading 32 of 64\n",
      "Reading 33 of 64\n",
      "Reading 34 of 64\n",
      "Reading 35 of 64\n",
      "Reading 36 of 64\n",
      "Reading 37 of 64\n",
      "Reading 38 of 64\n",
      "Reading 39 of 64\n",
      "Reading 40 of 64\n",
      "Reading 41 of 64\n",
      "Reading 42 of 64\n",
      "Reading 43 of 64\n",
      "Reading 44 of 64\n",
      "Reading 45 of 64\n",
      "Reading 46 of 64\n",
      "Reading 47 of 64\n",
      "Reading 48 of 64\n",
      "Reading 49 of 64\n",
      "Reading 50 of 64\n",
      "Reading 51 of 64\n",
      "Reading 52 of 64\n",
      "Reading 53 of 64\n",
      "Reading 54 of 64\n",
      "Reading 55 of 64\n",
      "Reading 56 of 64\n",
      "Reading 57 of 64\n",
      "Reading 58 of 64\n",
      "Reading 59 of 64\n",
      "Reading 60 of 64\n",
      "Reading 61 of 64\n",
      "Reading 62 of 64\n",
      "Reading 63 of 64\n"
     ]
    }
   ],
   "source": [
    "print(\"Reading Female  images ...\")\n",
    "for i, sub in enumerate(sub2):\n",
    "    print(\"Reading {} of {}\\r\".format(i, len(sub2)))\n",
    "    face_vectors = face_vector(read_image(sub))\n",
    "    if face_vectors is None:\n",
    "        continue\n",
    "    vectors.append(dlib.vector(face_vectors))\n",
    "    labels.append(female)"
   ]
  },
  {
   "cell_type": "markdown",
   "metadata": {},
   "source": [
    "# Training"
   ]
  },
  {
   "cell_type": "code",
   "execution_count": 12,
   "metadata": {},
   "outputs": [
    {
     "data": {
      "text/plain": [
       "dlib.vectors"
      ]
     },
     "execution_count": 12,
     "metadata": {},
     "output_type": "execute_result"
    }
   ],
   "source": [
    "type(vectors)"
   ]
  },
  {
   "cell_type": "code",
   "execution_count": 13,
   "metadata": {},
   "outputs": [],
   "source": [
    "vec = np.array(vectors)"
   ]
  },
  {
   "cell_type": "code",
   "execution_count": 14,
   "metadata": {},
   "outputs": [],
   "source": [
    "lab = np.array(labels)"
   ]
  },
  {
   "cell_type": "markdown",
   "metadata": {},
   "source": [
    "> **Saving into csv file**"
   ]
  },
  {
   "cell_type": "code",
   "execution_count": 19,
   "metadata": {},
   "outputs": [],
   "source": [
    "X = vec\n",
    "y = lab.reshape(-1,1)"
   ]
  },
  {
   "cell_type": "code",
   "execution_count": 26,
   "metadata": {},
   "outputs": [],
   "source": [
    "X = X[1:]"
   ]
  },
  {
   "cell_type": "code",
   "execution_count": 27,
   "metadata": {},
   "outputs": [],
   "source": [
    "dataset = np.append(X,y,axis = 1)"
   ]
  },
  {
   "cell_type": "code",
   "execution_count": 28,
   "metadata": {},
   "outputs": [],
   "source": [
    "np.savetxt('face_vectors.csv',dataset,delimiter = ',')"
   ]
  },
  {
   "cell_type": "markdown",
   "metadata": {},
   "source": [
    "> ## Test Train Split"
   ]
  },
  {
   "cell_type": "code",
   "execution_count": 29,
   "metadata": {},
   "outputs": [
    {
     "name": "stderr",
     "output_type": "stream",
     "text": [
      "C:\\Users\\srikanth\\Anaconda\\lib\\site-packages\\sklearn\\cross_validation.py:41: DeprecationWarning: This module was deprecated in version 0.18 in favor of the model_selection module into which all the refactored classes and functions are moved. Also note that the interface of the new CV iterators are different from that of this module. This module will be removed in 0.20.\n",
      "  \"This module will be removed in 0.20.\", DeprecationWarning)\n"
     ]
    }
   ],
   "source": [
    "from sklearn.cross_validation import train_test_split"
   ]
  },
  {
   "cell_type": "code",
   "execution_count": 30,
   "metadata": {},
   "outputs": [],
   "source": [
    "x_train, x_test, y_train, y_test = train_test_split(X,y,test_size = 0.2, random_state = 0)"
   ]
  },
  {
   "cell_type": "markdown",
   "metadata": {},
   "source": [
    "> ## Building Model"
   ]
  },
  {
   "cell_type": "code",
   "execution_count": 31,
   "metadata": {},
   "outputs": [],
   "source": [
    "from sklearn.neighbors import KNeighborsClassifier\n"
   ]
  },
  {
   "cell_type": "code",
   "execution_count": 32,
   "metadata": {},
   "outputs": [],
   "source": [
    "model_knn = KNeighborsClassifier(n_neighbors=3)\n"
   ]
  },
  {
   "cell_type": "code",
   "execution_count": 33,
   "metadata": {},
   "outputs": [
    {
     "name": "stderr",
     "output_type": "stream",
     "text": [
      "C:\\Users\\srikanth\\Anaconda\\lib\\site-packages\\sklearn\\utils\\validation.py:578: DataConversionWarning: A column-vector y was passed when a 1d array was expected. Please change the shape of y to (n_samples, ), for example using ravel().\n",
      "  y = column_or_1d(y, warn=True)\n",
      "C:\\Users\\srikanth\\Anaconda\\lib\\site-packages\\ipykernel_launcher.py:2: DataConversionWarning: A column-vector y was passed when a 1d array was expected. Please change the shape of y to (n_samples, ), for example using ravel().\n",
      "  \n",
      "C:\\Users\\srikanth\\Anaconda\\lib\\site-packages\\ipykernel_launcher.py:5: DataConversionWarning: A column-vector y was passed when a 1d array was expected. Please change the shape of y to (n_samples,), for example using ravel().\n",
      "  \"\"\"\n"
     ]
    },
    {
     "data": {
      "text/plain": [
       "RandomForestClassifier(bootstrap=True, class_weight=None, criterion='gini',\n",
       "            max_depth=None, max_features='auto', max_leaf_nodes=None,\n",
       "            min_impurity_decrease=0.0, min_impurity_split=None,\n",
       "            min_samples_leaf=1, min_samples_split=2,\n",
       "            min_weight_fraction_leaf=0.0, n_estimators=100, n_jobs=1,\n",
       "            oob_score=False, random_state=None, verbose=0,\n",
       "            warm_start=False)"
      ]
     },
     "execution_count": 33,
     "metadata": {},
     "output_type": "execute_result"
    }
   ],
   "source": [
    "model_knn.fit(x_train, y_train) # training model\n",
    "\n"
   ]
  },
  {
   "cell_type": "code",
   "execution_count": 39,
   "metadata": {},
   "outputs": [],
   "source": [
    "y_pred_knn = model_knn.predict(x_test) # we use this for evaluation\n"
   ]
  },
  {
   "cell_type": "code",
   "execution_count": 35,
   "metadata": {},
   "outputs": [],
   "source": [
    "from sklearn.metrics import confusion_matrix, classification_report\n"
   ]
  },
  {
   "cell_type": "code",
   "execution_count": 38,
   "metadata": {},
   "outputs": [],
   "source": [
    "cm_knn = confusion_matrix(y_test, y_pred_knn) # confusion matrix\n",
    "\n",
    "\n",
    "cr_knn = classification_report(y_test, y_pred_knn) # classification report"
   ]
  },
  {
   "cell_type": "code",
   "execution_count": 37,
   "metadata": {},
   "outputs": [],
   "source": [
    "import seaborn as sns"
   ]
  },
  {
   "cell_type": "code",
   "execution_count": 42,
   "metadata": {},
   "outputs": [
    {
     "data": {
      "image/png": "[encoded data removed]",
      "text/plain": [
       "<matplotlib.figure.Figure at 0xd95d50bcc0>"
      ]
     },
     "metadata": {},
     "output_type": "display_data"
    },
    {
     "data": {
      "image/png": "[encoded data removed]",
      "text/plain": [
       "<matplotlib.figure.Figure at 0xd95d50cf28>"
      ]
     },
     "metadata": {},
     "output_type": "display_data"
    },
    {
     "data": {
      "image/png": "[encoded data removed]",
      "text/plain": [
       "<matplotlib.figure.Figure at 0xd95d56e240>"
      ]
     },
     "metadata": {},
     "output_type": "display_data"
    },
    {
     "data": {
      "image/png": "[encoded data removed]",
      "text/plain": [
       "<matplotlib.figure.Figure at 0xd95d5e3e80>"
      ]
     },
     "metadata": {},
     "output_type": "display_data"
    },
    {
     "data": {
      "image/png": "[encoded data removed]",
      "text/plain": [
       "<matplotlib.figure.Figure at 0xd95d6007f0>"
      ]
     },
     "metadata": {},
     "output_type": "display_data"
    }
   ],
   "source": [
    "sns.heatmap(cm_knn,annot=True,cbar=None,cmap = 'summer')\n",
    "plt.title('K Nearest Neighbour')\n",
    "plt.show()"
   ]
  },
  {
   "cell_type": "code",
   "execution_count": 43,
   "metadata": {},
   "outputs": [
    {
     "name": "stdout",
     "output_type": "stream",
     "text": [
      "====================Logistic Regression====================\n",
      "             precision    recall  f1-score   support\n",
      "\n",
      "        0.0       1.00      0.92      0.96        13\n",
      "        1.0       0.93      1.00      0.97        14\n",
      "\n",
      "avg / total       0.97      0.96      0.96        27\n",
      "\n",
      "====================KNearest Neighbour====================\n",
      "             precision    recall  f1-score   support\n",
      "\n",
      "        0.0       1.00      0.69      0.82        13\n",
      "        1.0       0.78      1.00      0.88        14\n",
      "\n",
      "avg / total       0.88      0.85      0.85        27\n",
      "\n",
      "====================Support Vector Machine====================\n",
      "             precision    recall  f1-score   support\n",
      "\n",
      "        0.0       1.00      1.00      1.00        13\n",
      "        1.0       1.00      1.00      1.00        14\n",
      "\n",
      "avg / total       1.00      1.00      1.00        27\n",
      "\n",
      "====================Descion Tree====================\n",
      "             precision    recall  f1-score   support\n",
      "\n",
      "        0.0       0.92      0.85      0.88        13\n",
      "        1.0       0.87      0.93      0.90        14\n",
      "\n",
      "avg / total       0.89      0.89      0.89        27\n",
      "\n",
      "====================Random Forest====================\n",
      "             precision    recall  f1-score   support\n",
      "\n",
      "        0.0       1.00      1.00      1.00        13\n",
      "        1.0       1.00      1.00      1.00        14\n",
      "\n",
      "avg / total       1.00      1.00      1.00        27\n",
      "\n"
     ]
    }
   ],
   "source": [
    "print('='*20+'KNearest Neighbour'+'='*20)\n",
    "print(cr_knn)"
   ]
  },
  {
   "cell_type": "code",
   "execution_count": 44,
   "metadata": {},
   "outputs": [],
   "source": [
    "from sklearn.externals import joblib"
   ]
  },
  {
   "cell_type": "code",
   "execution_count": 45,
   "metadata": {},
   "outputs": [
    {
     "data": {
      "text/plain": [
       "['gender_class.pkl']"
      ]
     },
     "execution_count": 45,
     "metadata": {},
     "output_type": "execute_result"
    }
   ],
   "source": [
    "joblib.dump(model_svm,'gender_class.pkl')"
   ]
  },
  {
   "cell_type": "code",
   "execution_count": null,
   "metadata": {},
   "outputs": [],
   "source": []
  }
 ],
 "metadata": {
  "kernelspec": {
   "display_name": "Python 3",
   "language": "python",
   "name": "python3"
  },
  "language_info": {
   "codemirror_mode": {
    "name": "ipython",
    "version": 3
   },
   "file_extension": ".py",
   "mimetype": "text/x-python",
   "name": "python",
   "nbconvert_exporter": "python",
   "pygments_lexer": "ipython3",
   "version": "3.6.4"
  }
 },
 "nbformat": 4,
 "nbformat_minor": 2
}
